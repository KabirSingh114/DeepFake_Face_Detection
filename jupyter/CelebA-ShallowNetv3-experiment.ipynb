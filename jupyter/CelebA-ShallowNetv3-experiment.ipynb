{
 "cells": [
  {
   "cell_type": "markdown",
   "metadata": {},
   "source": [
    "# Trained the pretrained weight"
   ]
  },
  {
   "cell_type": "code",
   "execution_count": 1,
   "metadata": {},
   "outputs": [
    {
     "name": "stderr",
     "output_type": "stream",
     "text": [
      "Using TensorFlow backend.\n"
     ]
    }
   ],
   "source": [
    "import numpy as np\n",
    "import pandas as pd\n",
    "import os\n",
    "import tensorflow as tf\n",
    "from keras import backend as K\n",
    "# os.environ[\"CUDA_VISIBLE_DEVICES\"] = '3'\n",
    "config = tf.ConfigProto()\n",
    "config.gpu_options.allow_growth = True\n",
    "sess = tf.Session(config=config)\n",
    "K.set_session(sess)\n",
    "from keras.layers import Input, Dense, Flatten, GlobalAveragePooling2D, Activation, Conv2D, MaxPooling2D, BatchNormalization, Lambda, Dropout\n",
    "from keras.layers import LeakyReLU, Multiply, add, dot, SeparableConv2D, DepthwiseConv2D, Reshape, Add\n",
    "from keras.regularizers import l2\n",
    "from keras.models import Model, load_model, model_from_json\n",
    "from keras.preprocessing.image import ImageDataGenerator\n",
    "from keras.optimizers import Adam, SGD, RMSprop\n",
    "from keras.callbacks import EarlyStopping, ReduceLROnPlateau\n",
    "from keras.utils import to_categorical\n",
    "from keras import regularizers\n",
    "from sklearn import metrics\n",
    "from sklearn.metrics import roc_curve, roc_auc_score, confusion_matrix, classification_report\n",
    "import matplotlib.pyplot as plt\n",
    "from scipy.optimize import brentq\n",
    "from scipy.interpolate import interp1d\n",
    "import glob\n",
    "from PIL import Image\n",
    "from tqdm import tqdm, trange\n",
    "import random"
   ]
  },
  {
   "cell_type": "code",
   "execution_count": 2,
   "metadata": {},
   "outputs": [],
   "source": [
    "nb_classes = 1  # number of classes\n",
    "img_width, img_height = 64, 64  # change based on the shape/structure of your images\n",
    "batch_size = 32  # try 4, 8, 16, 32, 64, 128, 256 dependent on CPU/GPU memory capacity (powers of 2 values).\n",
    "nb_epoch = 50  # number of iteration the algorithm gets trained.\n",
    "learn_rate = 1e-5  # sgd learning rate"
   ]
  },
  {
   "cell_type": "markdown",
   "metadata": {},
   "source": [
    "# Dir"
   ]
  },
  {
   "cell_type": "code",
   "execution_count": 3,
   "metadata": {},
   "outputs": [],
   "source": [
    "train_dir = '/home/www/fake_detection/task2/128x128/train'\n",
    "validation_dir = '/home/www/fake_detection/task2/128x128/validation'\n",
    "test50_dir = '/home/www/fake_detection/task2/128x128/test_50'"
   ]
  },
  {
   "cell_type": "markdown",
   "metadata": {},
   "source": [
    "# ShallowNet"
   ]
  },
  {
   "cell_type": "code",
   "execution_count": 4,
   "metadata": {
    "scrolled": false
   },
   "outputs": [
    {
     "name": "stdout",
     "output_type": "stream",
     "text": [
      "WARNING:tensorflow:From /home/www/anaconda3/lib/python3.7/site-packages/keras/backend/tensorflow_backend.py:4070: The name tf.nn.max_pool is deprecated. Please use tf.nn.max_pool2d instead.\n",
      "\n",
      "Loaded Model from disk\n",
      "Model: \"model_1\"\n",
      "_________________________________________________________________\n",
      "Layer (type)                 Output Shape              Param #   \n",
      "=================================================================\n",
      "input_1 (InputLayer)         (None, 64, 64, 3)         0         \n",
      "_________________________________________________________________\n",
      "conv2d_1 (Conv2D)            (None, 60, 60, 32)        2432      \n",
      "_________________________________________________________________\n",
      "activation_1 (Activation)    (None, 60, 60, 32)        0         \n",
      "_________________________________________________________________\n",
      "dropout_1 (Dropout)          (None, 60, 60, 32)        0         \n",
      "_________________________________________________________________\n",
      "conv2d_2 (Conv2D)            (None, 60, 60, 32)        1056      \n",
      "_________________________________________________________________\n",
      "activation_2 (Activation)    (None, 60, 60, 32)        0         \n",
      "_________________________________________________________________\n",
      "dropout_2 (Dropout)          (None, 60, 60, 32)        0         \n",
      "_________________________________________________________________\n",
      "conv2d_3 (Conv2D)            (None, 60, 60, 32)        1056      \n",
      "_________________________________________________________________\n",
      "activation_3 (Activation)    (None, 60, 60, 32)        0         \n",
      "_________________________________________________________________\n",
      "max_pooling2d_1 (MaxPooling2 (None, 30, 30, 32)        0         \n",
      "_________________________________________________________________\n",
      "dropout_3 (Dropout)          (None, 30, 30, 32)        0         \n",
      "_________________________________________________________________\n",
      "conv2d_4 (Conv2D)            (None, 28, 28, 64)        18496     \n",
      "_________________________________________________________________\n",
      "activation_4 (Activation)    (None, 28, 28, 64)        0         \n",
      "_________________________________________________________________\n",
      "dropout_4 (Dropout)          (None, 28, 28, 64)        0         \n",
      "_________________________________________________________________\n",
      "conv2d_5 (Conv2D)            (None, 28, 28, 64)        4160      \n",
      "_________________________________________________________________\n",
      "activation_5 (Activation)    (None, 28, 28, 64)        0         \n",
      "_________________________________________________________________\n",
      "dropout_5 (Dropout)          (None, 28, 28, 64)        0         \n",
      "_________________________________________________________________\n",
      "conv2d_6 (Conv2D)            (None, 28, 28, 64)        4160      \n",
      "_________________________________________________________________\n",
      "activation_6 (Activation)    (None, 28, 28, 64)        0         \n",
      "_________________________________________________________________\n",
      "max_pooling2d_2 (MaxPooling2 (None, 14, 14, 64)        0         \n",
      "_________________________________________________________________\n",
      "dropout_6 (Dropout)          (None, 14, 14, 64)        0         \n",
      "_________________________________________________________________\n",
      "conv2d_7 (Conv2D)            (None, 12, 12, 128)       73856     \n",
      "_________________________________________________________________\n",
      "activation_7 (Activation)    (None, 12, 12, 128)       0         \n",
      "_________________________________________________________________\n",
      "dropout_7 (Dropout)          (None, 12, 12, 128)       0         \n",
      "_________________________________________________________________\n",
      "conv2d_8 (Conv2D)            (None, 12, 12, 32)        4128      \n",
      "_________________________________________________________________\n",
      "activation_8 (Activation)    (None, 12, 12, 32)        0         \n",
      "_________________________________________________________________\n",
      "dropout_8 (Dropout)          (None, 12, 12, 32)        0         \n",
      "_________________________________________________________________\n",
      "flatten_1 (Flatten)          (None, 4608)              0         \n",
      "_________________________________________________________________\n",
      "dense_1 (Dense)              (None, 1024)              4719616   \n",
      "_________________________________________________________________\n",
      "activation_9 (Activation)    (None, 1024)              0         \n",
      "_________________________________________________________________\n",
      "batch_normalization_1 (Batch (None, 1024)              4096      \n",
      "_________________________________________________________________\n",
      "dropout_9 (Dropout)          (None, 1024)              0         \n",
      "_________________________________________________________________\n",
      "dense_2 (Dense)              (None, 2)                 2050      \n",
      "_________________________________________________________________\n",
      "activation_10 (Activation)   (None, 2)                 0         \n",
      "=================================================================\n",
      "Total params: 4,835,106\n",
      "Trainable params: 4,833,058\n",
      "Non-trainable params: 2,048\n",
      "_________________________________________________________________\n",
      "None\n"
     ]
    }
   ],
   "source": [
    "# ShallowNet V3\n",
    "img_input = Input(shape=(img_height, img_width, 3))\n",
    "\n",
    "# block 1\n",
    "x = Conv2D(32, (5, 5), padding='valid', kernel_regularizer=regularizers.l2(0.0001))(img_input)\n",
    "x = Activation('relu')(x)\n",
    "x = Dropout(0.25)(x)\n",
    "x = Conv2D(32, (1, 1), kernel_regularizer=regularizers.l2(0.0001))(x)\n",
    "x = Activation('relu')(x)\n",
    "x = Dropout(0.25)(x)\n",
    "x = Conv2D(32, (1, 1), kernel_regularizer=regularizers.l2(0.0001))(x)\n",
    "x = Activation('relu')(x)\n",
    "x = MaxPooling2D((2, 2))(x)\n",
    "x = Dropout(0.25)(x)\n",
    "\n",
    "# block 2\n",
    "x = Conv2D(64, (3, 3), padding='valid', kernel_regularizer=regularizers.l2(0.0001))(x)\n",
    "x = Activation('relu')(x)\n",
    "x = Dropout(0.25)(x)\n",
    "x = Conv2D(64, (1, 1), kernel_regularizer=regularizers.l2(0.0001))(x)\n",
    "x = Activation('relu')(x)\n",
    "x = Dropout(0.25)(x)\n",
    "x = Conv2D(64, (1, 1), kernel_regularizer=regularizers.l2(0.0001))(x)\n",
    "x = Activation('relu')(x)\n",
    "x = MaxPooling2D((2, 2))(x)\n",
    "x = Dropout(0.25)(x)\n",
    "\n",
    "# block 3\n",
    "x = Conv2D(128, (3, 3), padding='valid', kernel_regularizer=regularizers.l2(0.0001))(x)\n",
    "x = Activation('relu')(x)\n",
    "x = Dropout(0.25)(x)\n",
    "x = Conv2D(32, (1, 1), kernel_regularizer=regularizers.l2(0.0001))(x)\n",
    "x = Activation('relu')(x)\n",
    "x = Dropout(0.25)(x)\n",
    "\n",
    "# block 4\n",
    "x = Flatten()(x)\n",
    "x_de = Dense(1024, kernel_regularizer=regularizers.l2(0.0001))(x)\n",
    "x_rl = Activation('relu')(x_de)\n",
    "x_bn = BatchNormalization()(x_rl)\n",
    "x_dp = Dropout(0.25)(x_bn)\n",
    "\n",
    "x_sig = Dense(2, activation=None)(x_dp)\n",
    "out = Activation('sigmoid')(x_sig)\n",
    "\n",
    "model = Model(img_input, out)\n",
    "print(\"Loaded Model from disk\")\n",
    "print(model.summary())"
   ]
  },
  {
   "cell_type": "code",
   "execution_count": 5,
   "metadata": {},
   "outputs": [],
   "source": [
    "# model = load_model(\"/home/www/fake_detection/model/pretrained/SNv3_3.h5\")"
   ]
  },
  {
   "cell_type": "code",
   "execution_count": 6,
   "metadata": {},
   "outputs": [
    {
     "name": "stdout",
     "output_type": "stream",
     "text": [
      "22\n"
     ]
    }
   ],
   "source": [
    "model.compile(optimizer=Adam(),\n",
    "              loss='categorical_crossentropy',\n",
    "              metrics=['accuracy'])\n",
    "\n",
    "print(len(model.trainable_weights))"
   ]
  },
  {
   "cell_type": "markdown",
   "metadata": {},
   "source": [
    "# Data generator"
   ]
  },
  {
   "cell_type": "code",
   "execution_count": 7,
   "metadata": {
    "scrolled": true
   },
   "outputs": [
    {
     "name": "stdout",
     "output_type": "stream",
     "text": [
      "Found 128404 images belonging to 2 classes.\n",
      "Found 32100 images belonging to 2 classes.\n",
      "Found 37566 images belonging to 2 classes.\n"
     ]
    }
   ],
   "source": [
    "train_datagen = ImageDataGenerator(rotation_range=0.2, \n",
    "                                   shear_range=0.2,\n",
    "                                   zoom_range=0.2,\n",
    "                                   width_shift_range=2,\n",
    "                                   height_shift_range=2,\n",
    "                                   horizontal_flip=True,\n",
    "                                   rescale=1./255,)\n",
    "\n",
    "test_datagen = ImageDataGenerator(rescale=1./255)\n",
    "\n",
    "train_generator = train_datagen.flow_from_directory(train_dir,\n",
    "                                                        target_size=(img_height, img_width),\n",
    "                                                        batch_size=batch_size,\n",
    "                                                        shuffle=True,\n",
    "                                                        class_mode='categorical')\n",
    "\n",
    "validation_generator = train_datagen.flow_from_directory(validation_dir,\n",
    "                                                        target_size=(img_height, img_width),\n",
    "                                                        batch_size=batch_size,\n",
    "                                                        shuffle=False,\n",
    "                                                        class_mode='categorical')\n",
    "\n",
    "test50_generator = test_datagen.flow_from_directory(test50_dir,\n",
    "                                                  target_size=(img_height, img_width),\n",
    "                                                  batch_size=batch_size,\n",
    "                                                  shuffle=False,\n",
    "                                                  class_mode='categorical')"
   ]
  },
  {
   "cell_type": "code",
   "execution_count": 8,
   "metadata": {
    "scrolled": true
   },
   "outputs": [
    {
     "name": "stdout",
     "output_type": "stream",
     "text": [
      "WARNING:tensorflow:From /home/www/anaconda3/lib/python3.7/site-packages/tensorflow/python/ops/math_grad.py:1250: add_dispatch_support.<locals>.wrapper (from tensorflow.python.ops.array_ops) is deprecated and will be removed in a future version.\n",
      "Instructions for updating:\n",
      "Use tf.where in 2.0, which has the same broadcast rule as np.where\n",
      "WARNING:tensorflow:From /home/www/anaconda3/lib/python3.7/site-packages/keras/backend/tensorflow_backend.py:422: The name tf.global_variables is deprecated. Please use tf.compat.v1.global_variables instead.\n",
      "\n",
      "Epoch 1/50\n",
      "200/200 [==============================] - 88s 439ms/step - loss: 0.7966 - accuracy: 0.7100 - val_loss: 0.7090 - val_accuracy: 0.5000\n",
      "Epoch 2/50\n",
      "200/200 [==============================] - 83s 413ms/step - loss: 0.6483 - accuracy: 0.7839 - val_loss: 1.1706 - val_accuracy: 0.5000\n",
      "Epoch 3/50\n",
      "200/200 [==============================] - 84s 422ms/step - loss: 0.6072 - accuracy: 0.7873 - val_loss: 0.6608 - val_accuracy: 0.9716\n",
      "Epoch 4/50\n",
      "200/200 [==============================] - 82s 411ms/step - loss: 0.5694 - accuracy: 0.7873 - val_loss: 0.6045 - val_accuracy: 0.9611\n",
      "Epoch 5/50\n",
      "200/200 [==============================] - 85s 425ms/step - loss: 0.5621 - accuracy: 0.7877 - val_loss: 0.5208 - val_accuracy: 0.9734\n",
      "Epoch 6/50\n",
      "200/200 [==============================] - 84s 421ms/step - loss: 0.5439 - accuracy: 0.7898 - val_loss: 0.6890 - val_accuracy: 0.8864\n",
      "Epoch 7/50\n",
      "200/200 [==============================] - 83s 416ms/step - loss: 0.5217 - accuracy: 0.7958 - val_loss: 0.8572 - val_accuracy: 0.8176\n",
      "Epoch 8/50\n",
      "200/200 [==============================] - 84s 419ms/step - loss: 0.5148 - accuracy: 0.7991 - val_loss: 0.6993 - val_accuracy: 0.8336\n",
      "Epoch 9/50\n",
      "200/200 [==============================] - 81s 407ms/step - loss: 0.5078 - accuracy: 0.7909 - val_loss: 0.7654 - val_accuracy: 0.9354\n",
      "Epoch 10/50\n",
      "200/200 [==============================] - 84s 421ms/step - loss: 0.4824 - accuracy: 0.8098 - val_loss: 0.5455 - val_accuracy: 0.9633\n",
      "Epoch 11/50\n",
      "200/200 [==============================] - 86s 430ms/step - loss: 0.5024 - accuracy: 0.7900 - val_loss: 0.5657 - val_accuracy: 0.9657\n",
      "Epoch 12/50\n",
      "200/200 [==============================] - 82s 410ms/step - loss: 0.4856 - accuracy: 0.8091 - val_loss: 0.5798 - val_accuracy: 0.9611\n",
      "Epoch 13/50\n",
      "200/200 [==============================] - 84s 422ms/step - loss: 0.4939 - accuracy: 0.7987 - val_loss: 0.5757 - val_accuracy: 0.9606\n",
      "Epoch 14/50\n",
      "200/200 [==============================] - 81s 407ms/step - loss: 0.4889 - accuracy: 0.8016 - val_loss: 0.5648 - val_accuracy: 0.9643\n",
      "Epoch 15/50\n",
      "200/200 [==============================] - 85s 423ms/step - loss: 0.4891 - accuracy: 0.8020 - val_loss: 0.6857 - val_accuracy: 0.9621\n",
      "Epoch 16/50\n",
      "200/200 [==============================] - 84s 421ms/step - loss: 0.4886 - accuracy: 0.8011 - val_loss: 0.5990 - val_accuracy: 0.9634\n",
      "Epoch 17/50\n",
      "200/200 [==============================] - 84s 422ms/step - loss: 0.4913 - accuracy: 0.7956 - val_loss: 0.8256 - val_accuracy: 0.9595\n",
      "Epoch 18/50\n",
      "200/200 [==============================] - 84s 420ms/step - loss: 0.4930 - accuracy: 0.8020 - val_loss: 0.7131 - val_accuracy: 0.9629\n",
      "Epoch 19/50\n",
      "200/200 [==============================] - 82s 412ms/step - loss: 0.4874 - accuracy: 0.8020 - val_loss: 0.6310 - val_accuracy: 0.9607\n",
      "Epoch 20/50\n",
      "200/200 [==============================] - 83s 414ms/step - loss: 0.5004 - accuracy: 0.7953 - val_loss: 0.5986 - val_accuracy: 0.9526\n",
      "Epoch 21/50\n",
      "200/200 [==============================] - 82s 412ms/step - loss: 0.4977 - accuracy: 0.7967 - val_loss: 0.5062 - val_accuracy: 0.9637\n",
      "Epoch 22/50\n",
      "200/200 [==============================] - 85s 426ms/step - loss: 0.4909 - accuracy: 0.8000 - val_loss: 0.5746 - val_accuracy: 0.9642\n",
      "Epoch 23/50\n",
      "200/200 [==============================] - 82s 411ms/step - loss: 0.4859 - accuracy: 0.8083 - val_loss: 0.5911 - val_accuracy: 0.9557\n",
      "Epoch 24/50\n",
      "200/200 [==============================] - 83s 413ms/step - loss: 0.4946 - accuracy: 0.7950 - val_loss: 0.5773 - val_accuracy: 0.9607\n",
      "Epoch 25/50\n",
      "200/200 [==============================] - 84s 421ms/step - loss: 0.5021 - accuracy: 0.7966 - val_loss: 0.6351 - val_accuracy: 0.9565\n",
      "Epoch 26/50\n",
      "200/200 [==============================] - 85s 424ms/step - loss: 0.4926 - accuracy: 0.8037 - val_loss: 0.5904 - val_accuracy: 0.9571\n",
      "Epoch 27/50\n",
      "200/200 [==============================] - 80s 400ms/step - loss: 0.4909 - accuracy: 0.8031 - val_loss: 0.5719 - val_accuracy: 0.9582\n",
      "Epoch 28/50\n",
      "200/200 [==============================] - 77s 387ms/step - loss: 0.4916 - accuracy: 0.8020 - val_loss: 0.5633 - val_accuracy: 0.9622\n",
      "Epoch 29/50\n",
      "200/200 [==============================] - 71s 356ms/step - loss: 0.4926 - accuracy: 0.8016 - val_loss: 0.6376 - val_accuracy: 0.9595\n",
      "Epoch 30/50\n",
      "200/200 [==============================] - 72s 362ms/step - loss: 0.4919 - accuracy: 0.7992 - val_loss: 0.5668 - val_accuracy: 0.9673\n",
      "Epoch 31/50\n",
      "200/200 [==============================] - 70s 352ms/step - loss: 0.4897 - accuracy: 0.7981 - val_loss: 0.5909 - val_accuracy: 0.9645\n",
      "Epoch 32/50\n",
      "200/200 [==============================] - 71s 354ms/step - loss: 0.4837 - accuracy: 0.8067 - val_loss: 0.6150 - val_accuracy: 0.9616\n",
      "Epoch 33/50\n",
      "200/200 [==============================] - 71s 357ms/step - loss: 0.4874 - accuracy: 0.8041 - val_loss: 0.5766 - val_accuracy: 0.9589\n",
      "Epoch 34/50\n",
      "200/200 [==============================] - 72s 359ms/step - loss: 0.4930 - accuracy: 0.7969 - val_loss: 0.6175 - val_accuracy: 0.9644\n",
      "Epoch 35/50\n",
      "200/200 [==============================] - 71s 354ms/step - loss: 0.4852 - accuracy: 0.8055 - val_loss: 0.5997 - val_accuracy: 0.9648\n",
      "Epoch 36/50\n",
      "200/200 [==============================] - 70s 351ms/step - loss: 0.4928 - accuracy: 0.7967 - val_loss: 0.5693 - val_accuracy: 0.9600\n",
      "Epoch 37/50\n",
      "200/200 [==============================] - 71s 353ms/step - loss: 0.5009 - accuracy: 0.7928 - val_loss: 0.6049 - val_accuracy: 0.9602\n",
      "Epoch 38/50\n",
      "200/200 [==============================] - 72s 360ms/step - loss: 0.4829 - accuracy: 0.8094 - val_loss: 0.8344 - val_accuracy: 0.9558\n",
      "Epoch 39/50\n",
      "200/200 [==============================] - 71s 354ms/step - loss: 0.4892 - accuracy: 0.8047 - val_loss: 0.6151 - val_accuracy: 0.9559\n",
      "Epoch 40/50\n",
      "200/200 [==============================] - 70s 349ms/step - loss: 0.4891 - accuracy: 0.7977 - val_loss: 0.5893 - val_accuracy: 0.9634\n",
      "Epoch 41/50\n",
      "200/200 [==============================] - 71s 353ms/step - loss: 0.4804 - accuracy: 0.8081 - val_loss: 0.6119 - val_accuracy: 0.9661\n",
      "Epoch 42/50\n",
      "200/200 [==============================] - 70s 351ms/step - loss: 0.4847 - accuracy: 0.8075 - val_loss: 0.5903 - val_accuracy: 0.9623\n",
      "Epoch 43/50\n",
      "200/200 [==============================] - 72s 358ms/step - loss: 0.4907 - accuracy: 0.8005 - val_loss: 0.5441 - val_accuracy: 0.9622\n",
      "Epoch 44/50\n",
      "200/200 [==============================] - 73s 366ms/step - loss: 0.4958 - accuracy: 0.7969 - val_loss: 0.8845 - val_accuracy: 0.9536\n",
      "Epoch 45/50\n",
      "200/200 [==============================] - 72s 358ms/step - loss: 0.4917 - accuracy: 0.7994 - val_loss: 0.6246 - val_accuracy: 0.9631\n",
      "Epoch 46/50\n",
      "200/200 [==============================] - 71s 353ms/step - loss: 0.5019 - accuracy: 0.7897 - val_loss: 0.5520 - val_accuracy: 0.9544\n",
      "Epoch 47/50\n",
      "200/200 [==============================] - 70s 350ms/step - loss: 0.4830 - accuracy: 0.8081 - val_loss: 0.6436 - val_accuracy: 0.9565\n",
      "Epoch 48/50\n",
      "200/200 [==============================] - 70s 350ms/step - loss: 0.4945 - accuracy: 0.7964 - val_loss: 0.6695 - val_accuracy: 0.9600\n",
      "Epoch 49/50\n",
      "200/200 [==============================] - 71s 354ms/step - loss: 0.4813 - accuracy: 0.8075 - val_loss: 0.5277 - val_accuracy: 0.9709\n",
      "Epoch 50/50\n",
      "200/200 [==============================] - 71s 354ms/step - loss: 0.4886 - accuracy: 0.8055 - val_loss: 0.5614 - val_accuracy: 0.9648\n"
     ]
    }
   ],
   "source": [
    "callback_list = [EarlyStopping(monitor='val_accuracy', patience=50),\n",
    "                 ReduceLROnPlateau(monitor='val_loss', factor=0.1, patience=3)]\n",
    "history = model.fit_generator(train_generator,\n",
    "                            steps_per_epoch=200,\n",
    "                            epochs=50,\n",
    "                            validation_data=validation_generator,\n",
    "                            validation_steps=len(validation_generator),\n",
    "                            callbacks=callback_list)"
   ]
  },
  {
   "cell_type": "code",
   "execution_count": 15,
   "metadata": {},
   "outputs": [
    {
     "name": "stdout",
     "output_type": "stream",
     "text": [
      "Loaded Model from disk\n",
      "Model: \"model_3\"\n",
      "_________________________________________________________________\n",
      "Layer (type)                 Output Shape              Param #   \n",
      "=================================================================\n",
      "input_3 (InputLayer)         (None, 64, 64, 3)         0         \n",
      "_________________________________________________________________\n",
      "conv2d_17 (Conv2D)           (None, 60, 60, 32)        2432      \n",
      "_________________________________________________________________\n",
      "activation_20 (Activation)   (None, 60, 60, 32)        0         \n",
      "_________________________________________________________________\n",
      "dropout_18 (Dropout)         (None, 60, 60, 32)        0         \n",
      "_________________________________________________________________\n",
      "conv2d_18 (Conv2D)           (None, 60, 60, 32)        1056      \n",
      "_________________________________________________________________\n",
      "activation_21 (Activation)   (None, 60, 60, 32)        0         \n",
      "_________________________________________________________________\n",
      "dropout_19 (Dropout)         (None, 60, 60, 32)        0         \n",
      "_________________________________________________________________\n",
      "conv2d_19 (Conv2D)           (None, 60, 60, 32)        1056      \n",
      "_________________________________________________________________\n",
      "activation_22 (Activation)   (None, 60, 60, 32)        0         \n",
      "_________________________________________________________________\n",
      "max_pooling2d_5 (MaxPooling2 (None, 30, 30, 32)        0         \n",
      "_________________________________________________________________\n",
      "dropout_20 (Dropout)         (None, 30, 30, 32)        0         \n",
      "_________________________________________________________________\n",
      "conv2d_20 (Conv2D)           (None, 28, 28, 64)        18496     \n",
      "_________________________________________________________________\n",
      "activation_23 (Activation)   (None, 28, 28, 64)        0         \n",
      "_________________________________________________________________\n",
      "dropout_21 (Dropout)         (None, 28, 28, 64)        0         \n",
      "_________________________________________________________________\n",
      "conv2d_21 (Conv2D)           (None, 28, 28, 64)        4160      \n",
      "_________________________________________________________________\n",
      "activation_24 (Activation)   (None, 28, 28, 64)        0         \n",
      "_________________________________________________________________\n",
      "dropout_22 (Dropout)         (None, 28, 28, 64)        0         \n",
      "_________________________________________________________________\n",
      "conv2d_22 (Conv2D)           (None, 28, 28, 64)        4160      \n",
      "_________________________________________________________________\n",
      "activation_25 (Activation)   (None, 28, 28, 64)        0         \n",
      "_________________________________________________________________\n",
      "max_pooling2d_6 (MaxPooling2 (None, 14, 14, 64)        0         \n",
      "_________________________________________________________________\n",
      "dropout_23 (Dropout)         (None, 14, 14, 64)        0         \n",
      "_________________________________________________________________\n",
      "conv2d_23 (Conv2D)           (None, 12, 12, 128)       73856     \n",
      "_________________________________________________________________\n",
      "activation_26 (Activation)   (None, 12, 12, 128)       0         \n",
      "_________________________________________________________________\n",
      "dropout_24 (Dropout)         (None, 12, 12, 128)       0         \n",
      "_________________________________________________________________\n",
      "conv2d_24 (Conv2D)           (None, 12, 12, 32)        4128      \n",
      "_________________________________________________________________\n",
      "activation_27 (Activation)   (None, 12, 12, 32)        0         \n",
      "_________________________________________________________________\n",
      "dropout_25 (Dropout)         (None, 12, 12, 32)        0         \n",
      "_________________________________________________________________\n",
      "flatten_3 (Flatten)          (None, 4608)              0         \n",
      "_________________________________________________________________\n",
      "dense_4 (Dense)              (None, 2)                 9218      \n",
      "_________________________________________________________________\n",
      "activation_28 (Activation)   (None, 2)                 0         \n",
      "=================================================================\n",
      "Total params: 118,562\n",
      "Trainable params: 118,562\n",
      "Non-trainable params: 0\n",
      "_________________________________________________________________\n",
      "None\n"
     ]
    }
   ],
   "source": [
    "# ShallowNet V3\n",
    "img_input = Input(shape=(img_height, img_width, 3))\n",
    "\n",
    "# block 1\n",
    "x = Conv2D(32, (5, 5), padding='valid', kernel_regularizer=regularizers.l2(0.0001))(img_input)\n",
    "x = Activation('relu')(x)\n",
    "x = Dropout(0.25)(x)\n",
    "x = Conv2D(32, (1, 1), kernel_regularizer=regularizers.l2(0.0001))(x)\n",
    "x = Activation('relu')(x)\n",
    "x = Dropout(0.25)(x)\n",
    "x = Conv2D(32, (1, 1), kernel_regularizer=regularizers.l2(0.0001))(x)\n",
    "x = Activation('relu')(x)\n",
    "x = MaxPooling2D((2, 2))(x)\n",
    "x = Dropout(0.25)(x)\n",
    "\n",
    "# block 2\n",
    "x = Conv2D(64, (3, 3), padding='valid', kernel_regularizer=regularizers.l2(0.0001))(x)\n",
    "x = Activation('relu')(x)\n",
    "x = Dropout(0.25)(x)\n",
    "x = Conv2D(64, (1, 1), kernel_regularizer=regularizers.l2(0.0001))(x)\n",
    "x = Activation('relu')(x)\n",
    "x = Dropout(0.25)(x)\n",
    "x = Conv2D(64, (1, 1), kernel_regularizer=regularizers.l2(0.0001))(x)\n",
    "x = Activation('relu')(x)\n",
    "x = MaxPooling2D((2, 2))(x)\n",
    "x = Dropout(0.25)(x)\n",
    "\n",
    "# block 3\n",
    "x = Conv2D(128, (3, 3), padding='valid', kernel_regularizer=regularizers.l2(0.0001))(x)\n",
    "x = Activation('relu')(x)\n",
    "x = Dropout(0.25)(x)\n",
    "x = Conv2D(32, (1, 1), kernel_regularizer=regularizers.l2(0.0001))(x)\n",
    "x = Activation('relu')(x)\n",
    "x = Dropout(0.25)(x)\n",
    "\n",
    "# block 4\n",
    "x = Flatten()(x)\n",
    "x_sig = Dense(2, activation=None)(x)\n",
    "out = Activation('softmax')(x_sig)\n",
    "\n",
    "model = Model(img_input, out)\n",
    "print(\"Loaded Model from disk\")\n",
    "print(model.summary())"
   ]
  },
  {
   "cell_type": "code",
   "execution_count": 16,
   "metadata": {},
   "outputs": [
    {
     "name": "stdout",
     "output_type": "stream",
     "text": [
      "18\n"
     ]
    }
   ],
   "source": [
    "model.compile(optimizer=Adam(),\n",
    "              loss='categorical_crossentropy',\n",
    "              metrics=['accuracy'])\n",
    "\n",
    "print(len(model.trainable_weights))"
   ]
  },
  {
   "cell_type": "code",
   "execution_count": 17,
   "metadata": {},
   "outputs": [
    {
     "name": "stdout",
     "output_type": "stream",
     "text": [
      "Epoch 1/50\n",
      "200/200 [==============================] - 67s 337ms/step - loss: 0.6518 - accuracy: 0.6275 - val_loss: 0.7629 - val_accuracy: 0.5098\n",
      "Epoch 2/50\n",
      "200/200 [==============================] - 69s 346ms/step - loss: 0.5065 - accuracy: 0.7630 - val_loss: 0.8829 - val_accuracy: 0.5387\n",
      "Epoch 3/50\n",
      "200/200 [==============================] - 69s 346ms/step - loss: 0.4825 - accuracy: 0.7816 - val_loss: 0.8489 - val_accuracy: 0.7783\n",
      "Epoch 4/50\n",
      "200/200 [==============================] - 69s 347ms/step - loss: 0.4674 - accuracy: 0.7920 - val_loss: 0.6965 - val_accuracy: 0.8275\n",
      "Epoch 5/50\n",
      "200/200 [==============================] - 69s 343ms/step - loss: 0.4564 - accuracy: 0.7928 - val_loss: 0.5504 - val_accuracy: 0.9689\n",
      "Epoch 6/50\n",
      "200/200 [==============================] - 69s 345ms/step - loss: 0.4513 - accuracy: 0.7980 - val_loss: 0.6345 - val_accuracy: 0.9712\n",
      "Epoch 7/50\n",
      "200/200 [==============================] - 67s 335ms/step - loss: 0.4478 - accuracy: 0.7980 - val_loss: 0.4384 - val_accuracy: 0.9683\n",
      "Epoch 8/50\n",
      "200/200 [==============================] - 68s 342ms/step - loss: 0.4473 - accuracy: 0.7969 - val_loss: 0.4473 - val_accuracy: 0.9800\n",
      "Epoch 9/50\n",
      "200/200 [==============================] - 71s 355ms/step - loss: 0.4524 - accuracy: 0.7931 - val_loss: 0.8337 - val_accuracy: 0.9011\n",
      "Epoch 10/50\n",
      "200/200 [==============================] - 68s 338ms/step - loss: 0.4442 - accuracy: 0.8017 - val_loss: 0.7788 - val_accuracy: 0.8874\n",
      "Epoch 11/50\n",
      "200/200 [==============================] - 70s 349ms/step - loss: 0.4418 - accuracy: 0.7995 - val_loss: 0.5074 - val_accuracy: 0.9793\n",
      "Epoch 12/50\n",
      "200/200 [==============================] - 68s 340ms/step - loss: 0.4232 - accuracy: 0.8142 - val_loss: 0.4460 - val_accuracy: 0.9718\n",
      "Epoch 13/50\n",
      "200/200 [==============================] - 68s 342ms/step - loss: 0.4325 - accuracy: 0.8012 - val_loss: 0.6434 - val_accuracy: 0.9694\n",
      "Epoch 14/50\n",
      "200/200 [==============================] - 69s 343ms/step - loss: 0.4374 - accuracy: 0.7995 - val_loss: 0.5090 - val_accuracy: 0.9685\n",
      "Epoch 15/50\n",
      "200/200 [==============================] - 68s 341ms/step - loss: 0.4279 - accuracy: 0.8050 - val_loss: 0.5446 - val_accuracy: 0.9713\n",
      "Epoch 16/50\n",
      "200/200 [==============================] - 67s 337ms/step - loss: 0.4255 - accuracy: 0.8037 - val_loss: 0.4994 - val_accuracy: 0.9713\n",
      "Epoch 17/50\n",
      "200/200 [==============================] - 69s 343ms/step - loss: 0.4296 - accuracy: 0.8042 - val_loss: 0.4540 - val_accuracy: 0.9714\n",
      "Epoch 18/50\n",
      "200/200 [==============================] - 68s 341ms/step - loss: 0.4310 - accuracy: 0.8048 - val_loss: 0.4715 - val_accuracy: 0.9719\n",
      "Epoch 19/50\n",
      "200/200 [==============================] - 68s 340ms/step - loss: 0.4412 - accuracy: 0.7980 - val_loss: 0.5111 - val_accuracy: 0.9718\n",
      "Epoch 20/50\n",
      "200/200 [==============================] - 69s 345ms/step - loss: 0.4225 - accuracy: 0.8083 - val_loss: 0.5776 - val_accuracy: 0.9713\n",
      "Epoch 21/50\n",
      "200/200 [==============================] - 70s 348ms/step - loss: 0.4351 - accuracy: 0.8003 - val_loss: 0.6928 - val_accuracy: 0.9708\n",
      "Epoch 22/50\n",
      "200/200 [==============================] - 69s 344ms/step - loss: 0.4410 - accuracy: 0.7975 - val_loss: 0.5043 - val_accuracy: 0.9718\n",
      "Epoch 23/50\n",
      "200/200 [==============================] - 68s 338ms/step - loss: 0.4318 - accuracy: 0.8008 - val_loss: 0.4909 - val_accuracy: 0.9706\n",
      "Epoch 24/50\n",
      "200/200 [==============================] - 68s 340ms/step - loss: 0.4363 - accuracy: 0.8014 - val_loss: 0.4716 - val_accuracy: 0.9712\n",
      "Epoch 25/50\n",
      "200/200 [==============================] - 69s 344ms/step - loss: 0.4384 - accuracy: 0.7997 - val_loss: 0.4410 - val_accuracy: 0.9699\n",
      "Epoch 26/50\n",
      "200/200 [==============================] - 69s 343ms/step - loss: 0.4175 - accuracy: 0.8144 - val_loss: 0.5529 - val_accuracy: 0.9719\n",
      "Epoch 27/50\n",
      "200/200 [==============================] - 69s 345ms/step - loss: 0.4328 - accuracy: 0.8012 - val_loss: 0.4785 - val_accuracy: 0.9712\n",
      "Epoch 28/50\n",
      "200/200 [==============================] - 68s 341ms/step - loss: 0.4329 - accuracy: 0.8037 - val_loss: 0.5083 - val_accuracy: 0.9719\n",
      "Epoch 29/50\n",
      "200/200 [==============================] - 69s 343ms/step - loss: 0.4310 - accuracy: 0.8022 - val_loss: 0.4877 - val_accuracy: 0.9697\n",
      "Epoch 30/50\n",
      "200/200 [==============================] - 68s 342ms/step - loss: 0.4271 - accuracy: 0.8073 - val_loss: 0.5055 - val_accuracy: 0.9716\n",
      "Epoch 31/50\n",
      "200/200 [==============================] - 67s 336ms/step - loss: 0.4368 - accuracy: 0.8012 - val_loss: 0.4802 - val_accuracy: 0.9727\n",
      "Epoch 32/50\n",
      "200/200 [==============================] - 68s 340ms/step - loss: 0.4241 - accuracy: 0.8119 - val_loss: 0.4895 - val_accuracy: 0.9707\n",
      "Epoch 33/50\n",
      "200/200 [==============================] - 70s 350ms/step - loss: 0.4285 - accuracy: 0.8027 - val_loss: 0.5121 - val_accuracy: 0.9723\n",
      "Epoch 34/50\n",
      "200/200 [==============================] - 68s 342ms/step - loss: 0.4379 - accuracy: 0.7955 - val_loss: 0.5342 - val_accuracy: 0.9722\n",
      "Epoch 35/50\n",
      "200/200 [==============================] - 69s 343ms/step - loss: 0.4396 - accuracy: 0.7939 - val_loss: 0.5070 - val_accuracy: 0.9716\n",
      "Epoch 36/50\n",
      "200/200 [==============================] - 70s 348ms/step - loss: 0.4303 - accuracy: 0.8027 - val_loss: 0.4799 - val_accuracy: 0.9706\n",
      "Epoch 37/50\n",
      "200/200 [==============================] - 69s 346ms/step - loss: 0.4402 - accuracy: 0.7952 - val_loss: 0.4697 - val_accuracy: 0.9719\n",
      "Epoch 38/50\n",
      "200/200 [==============================] - 68s 342ms/step - loss: 0.4271 - accuracy: 0.8053 - val_loss: 0.5160 - val_accuracy: 0.9700\n",
      "Epoch 39/50\n",
      "200/200 [==============================] - 68s 338ms/step - loss: 0.4271 - accuracy: 0.8059 - val_loss: 0.4713 - val_accuracy: 0.9722\n",
      "Epoch 40/50\n",
      "200/200 [==============================] - 66s 331ms/step - loss: 0.4336 - accuracy: 0.8014 - val_loss: 0.4594 - val_accuracy: 0.9708\n",
      "Epoch 41/50\n",
      "200/200 [==============================] - 64s 318ms/step - loss: 0.4278 - accuracy: 0.8084 - val_loss: 0.4673 - val_accuracy: 0.9717\n",
      "Epoch 42/50\n",
      "200/200 [==============================] - 64s 319ms/step - loss: 0.4325 - accuracy: 0.8019 - val_loss: 0.5162 - val_accuracy: 0.9704\n",
      "Epoch 43/50\n",
      "200/200 [==============================] - 64s 319ms/step - loss: 0.4337 - accuracy: 0.8009 - val_loss: 0.4749 - val_accuracy: 0.9718\n",
      "Epoch 44/50\n",
      "200/200 [==============================] - 64s 319ms/step - loss: 0.4318 - accuracy: 0.8066 - val_loss: 0.5382 - val_accuracy: 0.9707\n",
      "Epoch 45/50\n",
      "200/200 [==============================] - 63s 314ms/step - loss: 0.4460 - accuracy: 0.7887 - val_loss: 0.4548 - val_accuracy: 0.9717\n",
      "Epoch 46/50\n",
      "200/200 [==============================] - 63s 317ms/step - loss: 0.4339 - accuracy: 0.8016 - val_loss: 0.5205 - val_accuracy: 0.9711\n",
      "Epoch 47/50\n",
      "200/200 [==============================] - 64s 320ms/step - loss: 0.4322 - accuracy: 0.8045 - val_loss: 0.4587 - val_accuracy: 0.9712\n",
      "Epoch 48/50\n",
      "200/200 [==============================] - 63s 316ms/step - loss: 0.4228 - accuracy: 0.8081 - val_loss: 0.4698 - val_accuracy: 0.9716\n",
      "Epoch 49/50\n",
      "200/200 [==============================] - 64s 320ms/step - loss: 0.4251 - accuracy: 0.8094 - val_loss: 0.4571 - val_accuracy: 0.9717\n",
      "Epoch 50/50\n",
      "200/200 [==============================] - 64s 321ms/step - loss: 0.4294 - accuracy: 0.8041 - val_loss: 0.4626 - val_accuracy: 0.9702\n"
     ]
    }
   ],
   "source": [
    "callback_list = [EarlyStopping(monitor='val_accuracy', patience=50),\n",
    "                 ReduceLROnPlateau(monitor='val_loss', factor=0.1, patience=3)]\n",
    "history_tune = model.fit_generator(train_generator,\n",
    "                            steps_per_epoch=200,\n",
    "                            epochs=50,\n",
    "                            validation_data=validation_generator,\n",
    "                            validation_steps=len(validation_generator),\n",
    "                            callbacks=callback_list)"
   ]
  },
  {
   "cell_type": "code",
   "execution_count": null,
   "metadata": {},
   "outputs": [],
   "source": []
  },
  {
   "cell_type": "code",
   "execution_count": 74,
   "metadata": {},
   "outputs": [
    {
     "data": {
      "text/plain": [
       "<Figure size 360x288 with 0 Axes>"
      ]
     },
     "metadata": {},
     "output_type": "display_data"
    },
    {
     "data": {
      "image/png": "[encoded data removed]",
      "text/plain": [
       "<Figure size 432x288 with 2 Axes>"
      ]
     },
     "metadata": {
      "needs_background": "light"
     },
     "output_type": "display_data"
    }
   ],
   "source": [
    "plt.figure(figsize = (5, 4))\n",
    "fig, ax1 = plt.subplots()\n",
    "ax2 = ax1.twinx()\n",
    "line1 = ax1.plot(history.history['loss'], 'r', label='ShallowNetV3 train loss')\n",
    "line2 = ax2.plot(history.history['val_loss'], 'b', label='ShallowNetV3 val loss')\n",
    "ax1.set_xlabel(\"Epochs\")\n",
    "ax1.set_ylabel(\"Train Loss\")\n",
    "ax2.set_ylabel(\"Val Loss\")\n",
    "ax1.set_ylim(0.4, 1.0)\n",
    "ax2.set_ylim(0.4, 1.2)\n",
    "lines = line1 + line2\n",
    "labels = [l.get_label() for l in lines]\n",
    "plt.legend(lines, labels, fontsize='x-large')\n",
    "plt.grid()"
   ]
  },
  {
   "cell_type": "code",
   "execution_count": 75,
   "metadata": {},
   "outputs": [],
   "source": [
    "fig.savefig(\"fig1.png\", dpi=1000)"
   ]
  },
  {
   "cell_type": "code",
   "execution_count": 76,
   "metadata": {},
   "outputs": [
    {
     "data": {
      "text/plain": [
       "<Figure size 360x288 with 0 Axes>"
      ]
     },
     "metadata": {},
     "output_type": "display_data"
    },
    {
     "data": {
      "image/png": "[encoded data removed]",
      "text/plain": [
       "<Figure size 432x288 with 2 Axes>"
      ]
     },
     "metadata": {
      "needs_background": "light"
     },
     "output_type": "display_data"
    }
   ],
   "source": [
    "plt.figure(figsize = (5, 4))\n",
    "fig, ax1 = plt.subplots()\n",
    "ax2 = ax1.twinx()\n",
    "line1 = ax1.plot(history_tune.history['loss'], 'r', label='without FC train loss')\n",
    "line2 = ax2.plot(history_tune.history['val_loss'], 'b', label='without FC val loss')\n",
    "ax1.set_xlabel(\"Epochs\")\n",
    "ax1.set_ylabel(\"Train Loss\")\n",
    "ax2.set_ylabel(\"Val Loss\")\n",
    "lines = line1 + line2\n",
    "labels = [l.get_label() for l in lines]\n",
    "plt.legend(lines, labels, fontsize='x-large')\n",
    "plt.grid()"
   ]
  },
  {
   "cell_type": "code",
   "execution_count": null,
   "metadata": {},
   "outputs": [],
   "source": [
    "fig.savefig(\"fig2.png\", dpi=1000)"
   ]
  },
  {
   "cell_type": "code",
   "execution_count": null,
   "metadata": {},
   "outputs": [],
   "source": []
  },
  {
   "cell_type": "code",
   "execution_count": null,
   "metadata": {},
   "outputs": [],
   "source": []
  },
  {
   "cell_type": "code",
   "execution_count": 12,
   "metadata": {},
   "outputs": [
    {
     "name": "stdout",
     "output_type": "stream",
     "text": [
      "1174/1174 [==============================] - 21s 18ms/step\n",
      "{'0_real': 0, '1_fake': 1}\n",
      "[[0.952 0.048]\n",
      " [0.870 0.130]\n",
      " [0.719 0.281]\n",
      " ...\n",
      " [0.477 0.523]\n",
      " [0.313 0.687]\n",
      " [0.385 0.615]]\n"
     ]
    }
   ],
   "source": [
    "output = model.predict_generator(test50_generator, steps=len(test50_generator), verbose=1)\n",
    "np.set_printoptions(formatter={'float': lambda x: \"{0:0.3f}\".format(x)})\n",
    "print(test50_generator.class_indices)\n",
    "print(output)"
   ]
  },
  {
   "cell_type": "code",
   "execution_count": 13,
   "metadata": {
    "scrolled": false
   },
   "outputs": [
    {
     "name": "stderr",
     "output_type": "stream",
     "text": [
      "100%|██████████| 1174/1174 [00:43<00:00, 26.94it/s]"
     ]
    },
    {
     "name": "stdout",
     "output_type": "stream",
     "text": [
      "[0 0 0 ... 1 1 1]\n",
      "[0 0 0 ... 1 1 1]\n"
     ]
    },
    {
     "name": "stderr",
     "output_type": "stream",
     "text": [
      "\n"
     ]
    }
   ],
   "source": [
    "output_score50 = []\n",
    "output_class50 = []\n",
    "answer_class50 = []\n",
    "answer_class50_1 =[]\n",
    "\n",
    "for i in trange(len(test50_generator)):\n",
    "    output50 = model.predict_on_batch(test50_generator[i][0])\n",
    "    output_score50.append(output50)\n",
    "    answer_class50.append(test50_generator[i][1])\n",
    "    \n",
    "output_score50 = np.concatenate(output_score50)\n",
    "answer_class50 = np.concatenate(answer_class50)\n",
    "\n",
    "output_class50 = np.argmax(output_score50, axis=1)\n",
    "answer_class50_1 = np.argmax(answer_class50, axis=1)\n",
    "\n",
    "print(output_class50)\n",
    "print(answer_class50_1)"
   ]
  },
  {
   "cell_type": "code",
   "execution_count": 14,
   "metadata": {},
   "outputs": [
    {
     "name": "stdout",
     "output_type": "stream",
     "text": [
      "              precision    recall  f1-score   support\n",
      "\n",
      "           0       0.68      0.82      0.74     18788\n",
      "           1       0.77      0.61      0.68     18778\n",
      "\n",
      "    accuracy                           0.72     37566\n",
      "   macro avg       0.73      0.72      0.71     37566\n",
      "weighted avg       0.73      0.72      0.71     37566\n",
      "\n",
      "[[15442  3346]\n",
      " [ 7303 11475]]\n",
      "AUROC: 0.854201\n",
      "0.44834384322180254\n",
      "test_acc:  0.7165255816429751\n"
     ]
    }
   ],
   "source": [
    "cm50 = confusion_matrix(answer_class50_1, output_class50)\n",
    "report50 = classification_report(answer_class50_1, output_class50)\n",
    "\n",
    "recall50 = cm50[0][0] / (cm50[0][0] + cm50[0][1])\n",
    "fallout50 = cm50[1][0] / (cm50[1][0] + cm50[1][1])\n",
    "\n",
    "fpr50, tpr50, thresholds50 = roc_curve(answer_class50_1, output_score50[:, 1], pos_label=1.)\n",
    "eer50 = brentq(lambda x : 1. - x - interp1d(fpr50, tpr50)(x), 0., 1.)\n",
    "thresh50 = interp1d(fpr50, thresholds50)(eer50)\n",
    "\n",
    "print(report50)\n",
    "print(cm50)\n",
    "print(\"AUROC: %f\" %(roc_auc_score(answer_class50_1, output_score50[:, 1])))\n",
    "print(thresh50)\n",
    "print('test_acc: ', len(output_class50[np.equal(output_class50, answer_class50_1)]) / len(output_class50))"
   ]
  },
  {
   "cell_type": "code",
   "execution_count": null,
   "metadata": {},
   "outputs": [],
   "source": []
  },
  {
   "cell_type": "code",
   "execution_count": null,
   "metadata": {},
   "outputs": [],
   "source": []
  }
 ],
 "metadata": {
  "kernelspec": {
   "display_name": "Python 3",
   "language": "python",
   "name": "python3"
  },
  "language_info": {
   "codemirror_mode": {
    "name": "ipython",
    "version": 3
   },
   "file_extension": ".py",
   "mimetype": "text/x-python",
   "name": "python",
   "nbconvert_exporter": "python",
   "pygments_lexer": "ipython3",
   "version": "3.7.3"
  }
 },
 "nbformat": 4,
 "nbformat_minor": 2
}
